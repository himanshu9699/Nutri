{
 "cells": [
  {
   "cell_type": "code",
   "execution_count": 1,
   "id": "fd5cdc36",
   "metadata": {},
   "outputs": [],
   "source": [
    "import os\n",
    "from PIL import Image\n",
    "import numpy as np\n",
    "import tensorflow as tf\n",
    "import keras\n",
    "from keras.utils import np_utils\n",
    "from keras.models import Sequential\n",
    "from keras.layers import Conv2D,MaxPooling2D,Dense,Flatten,Dropout\n",
    "from tensorflow.keras.callbacks import EarlyStopping\n",
    "import cv2\n",
    "import matplotlib.pyplot as plt\n",
    "from tensorflow.keras.layers import BatchNormalization\n",
    "# from keras.layers.normalization import BatchNormalization\n",
    "from tensorflow.keras.preprocessing.image import ImageDataGenerator"
   ]
  },
  {
   "cell_type": "code",
   "execution_count": 2,
   "id": "5e4c8263",
   "metadata": {},
   "outputs": [
    {
     "name": "stdout",
     "output_type": "stream",
     "text": [
      "Found 3115 files belonging to 36 classes.\n",
      "Found 351 files belonging to 36 classes.\n"
     ]
    }
   ],
   "source": [
    "val_path=\"Dataset/validation\"\n",
    "train_path=\"Dataset/train\"\n",
    "\n",
    "train_dataset = tf.keras.preprocessing.image_dataset_from_directory(train_path,\n",
    "                                                               seed=2509,\n",
    "                                                               image_size=(224, 224),\n",
    "                                                              batch_size=32)\n",
    "val_dataset = tf.keras.preprocessing.image_dataset_from_directory(val_path,\n",
    "                                                              seed=2509,\n",
    "                                                              image_size=(224, 224),\n",
    "                                                              shuffle=False,\n",
    "                                                              batch_size=32)"
   ]
  },
  {
   "cell_type": "code",
   "execution_count": 3,
   "id": "fed5e79e",
   "metadata": {},
   "outputs": [
    {
     "name": "stdout",
     "output_type": "stream",
     "text": [
      "36\n"
     ]
    }
   ],
   "source": [
    "class_names = train_dataset.class_names\n",
    "print(len(class_names))"
   ]
  },
  {
   "cell_type": "code",
   "execution_count": 4,
   "id": "95d83f75",
   "metadata": {},
   "outputs": [],
   "source": [
    "def create_yolo_model():\n",
    "    model = Sequential()\n",
    "    model.add(Conv2D(32, kernel_size = (3, 3), activation='relu', input_shape=(224,224,3)))\n",
    "    model.add(MaxPooling2D(pool_size=(2,2)))\n",
    "    model.add(BatchNormalization()) \n",
    "    model.add(Conv2D(64, kernel_size=(3,3), activation='relu'))\n",
    "    model.add(MaxPooling2D(pool_size=(2,2)))\n",
    "    model.add(BatchNormalization())\n",
    "    model.add(Conv2D(64, kernel_size=(3,3), activation='relu'))\n",
    "    model.add(MaxPooling2D(pool_size=(2,2)))\n",
    "    model.add(BatchNormalization())\n",
    "    model.add(Conv2D(96, kernel_size=(3,3), activation='relu'))\n",
    "    model.add(MaxPooling2D(pool_size=(2,2)))\n",
    "    model.add(BatchNormalization())\n",
    "    model.add(Conv2D(32, kernel_size=(3,3), activation='relu'))\n",
    "    model.add(MaxPooling2D(pool_size=(2,2)))\n",
    "    model.add(BatchNormalization())\n",
    "    model.add(Dropout(0.2))\n",
    "    model.add(Flatten())\n",
    "    model.add(Dense(128, activation='relu'))\n",
    "    model.add(Dense(len(class_names),activation='softmax'))\n",
    "    return model"
   ]
  },
  {
   "cell_type": "code",
   "execution_count": 5,
   "id": "52d8a704",
   "metadata": {},
   "outputs": [
    {
     "name": "stderr",
     "output_type": "stream",
     "text": [
      "WARNING:absl:`lr` is deprecated, please use `learning_rate` instead, or use the legacy optimizer, e.g.,tf.keras.optimizers.legacy.Adam.\n"
     ]
    },
    {
     "name": "stdout",
     "output_type": "stream",
     "text": [
      "Model: \"sequential\"\n",
      "_________________________________________________________________\n",
      " Layer (type)                Output Shape              Param #   \n",
      "=================================================================\n",
      " conv2d (Conv2D)             (None, 222, 222, 32)      896       \n",
      "                                                                 \n",
      " max_pooling2d (MaxPooling2D  (None, 111, 111, 32)     0         \n",
      " )                                                               \n",
      "                                                                 \n",
      " batch_normalization (BatchN  (None, 111, 111, 32)     128       \n",
      " ormalization)                                                   \n",
      "                                                                 \n",
      " conv2d_1 (Conv2D)           (None, 109, 109, 64)      18496     \n",
      "                                                                 \n",
      " max_pooling2d_1 (MaxPooling  (None, 54, 54, 64)       0         \n",
      " 2D)                                                             \n",
      "                                                                 \n",
      " batch_normalization_1 (Batc  (None, 54, 54, 64)       256       \n",
      " hNormalization)                                                 \n",
      "                                                                 \n",
      " conv2d_2 (Conv2D)           (None, 52, 52, 64)        36928     \n",
      "                                                                 \n",
      " max_pooling2d_2 (MaxPooling  (None, 26, 26, 64)       0         \n",
      " 2D)                                                             \n",
      "                                                                 \n",
      " batch_normalization_2 (Batc  (None, 26, 26, 64)       256       \n",
      " hNormalization)                                                 \n",
      "                                                                 \n",
      " conv2d_3 (Conv2D)           (None, 24, 24, 96)        55392     \n",
      "                                                                 \n",
      " max_pooling2d_3 (MaxPooling  (None, 12, 12, 96)       0         \n",
      " 2D)                                                             \n",
      "                                                                 \n",
      " batch_normalization_3 (Batc  (None, 12, 12, 96)       384       \n",
      " hNormalization)                                                 \n",
      "                                                                 \n",
      " conv2d_4 (Conv2D)           (None, 10, 10, 32)        27680     \n",
      "                                                                 \n",
      " max_pooling2d_4 (MaxPooling  (None, 5, 5, 32)         0         \n",
      " 2D)                                                             \n",
      "                                                                 \n",
      " batch_normalization_4 (Batc  (None, 5, 5, 32)         128       \n",
      " hNormalization)                                                 \n",
      "                                                                 \n",
      " dropout (Dropout)           (None, 5, 5, 32)          0         \n",
      "                                                                 \n",
      " flatten (Flatten)           (None, 800)               0         \n",
      "                                                                 \n",
      " dense (Dense)               (None, 128)               102528    \n",
      "                                                                 \n",
      " dense_1 (Dense)             (None, 36)                4644      \n",
      "                                                                 \n",
      "=================================================================\n",
      "Total params: 247,716\n",
      "Trainable params: 247,140\n",
      "Non-trainable params: 576\n",
      "_________________________________________________________________\n"
     ]
    }
   ],
   "source": [
    "model=create_yolo_model()\n",
    "model.compile(\n",
    "    loss = tf.keras.losses.SparseCategoricalCrossentropy(),\n",
    "    optimizer = tf.keras.optimizers.Adam(lr=0.001),\n",
    "    metrics = [\"accuracy\"])\n",
    "model.summary()"
   ]
  },
  {
   "cell_type": "code",
   "execution_count": 6,
   "id": "6bf8d24f",
   "metadata": {
    "scrolled": true
   },
   "outputs": [
    {
     "name": "stdout",
     "output_type": "stream",
     "text": [
      "Epoch 1/20\n",
      "98/98 [==============================] - 171s 2s/step - loss: 3.1209 - accuracy: 0.1663 - val_loss: 2.6225 - val_accuracy: 0.2450\n",
      "Epoch 2/20\n",
      "98/98 [==============================] - 176s 2s/step - loss: 2.2637 - accuracy: 0.3339 - val_loss: 1.6449 - val_accuracy: 0.5442\n",
      "Epoch 3/20\n",
      "98/98 [==============================] - 174s 2s/step - loss: 1.9227 - accuracy: 0.4305 - val_loss: 1.6033 - val_accuracy: 0.5071\n",
      "Epoch 4/20\n",
      "98/98 [==============================] - 175s 2s/step - loss: 1.6420 - accuracy: 0.5040 - val_loss: 0.9049 - val_accuracy: 0.7521\n",
      "Epoch 5/20\n",
      "98/98 [==============================] - 175s 2s/step - loss: 1.4496 - accuracy: 0.5499 - val_loss: 0.9399 - val_accuracy: 0.7407\n",
      "Epoch 6/20\n",
      "98/98 [==============================] - 177s 2s/step - loss: 1.2328 - accuracy: 0.6218 - val_loss: 0.7893 - val_accuracy: 0.7692\n",
      "Epoch 7/20\n",
      "98/98 [==============================] - 178s 2s/step - loss: 1.0739 - accuracy: 0.6709 - val_loss: 0.6997 - val_accuracy: 0.7863\n",
      "Epoch 8/20\n",
      "98/98 [==============================] - 178s 2s/step - loss: 0.9378 - accuracy: 0.7021 - val_loss: 0.5841 - val_accuracy: 0.8348\n",
      "Epoch 9/20\n",
      "98/98 [==============================] - 174s 2s/step - loss: 0.7861 - accuracy: 0.7525 - val_loss: 0.4337 - val_accuracy: 0.8775\n",
      "Epoch 10/20\n",
      "98/98 [==============================] - 174s 2s/step - loss: 0.6171 - accuracy: 0.8151 - val_loss: 0.3975 - val_accuracy: 0.9031\n",
      "Epoch 11/20\n",
      "98/98 [==============================] - 174s 2s/step - loss: 0.5436 - accuracy: 0.8347 - val_loss: 0.5269 - val_accuracy: 0.8661\n",
      "Epoch 12/20\n",
      "98/98 [==============================] - 167s 2s/step - loss: 0.4510 - accuracy: 0.8597 - val_loss: 0.3069 - val_accuracy: 0.9316\n",
      "Epoch 13/20\n",
      "98/98 [==============================] - 188s 2s/step - loss: 0.3519 - accuracy: 0.8986 - val_loss: 0.2744 - val_accuracy: 0.9316\n",
      "Epoch 14/20\n",
      "98/98 [==============================] - 186s 2s/step - loss: 0.3446 - accuracy: 0.8976 - val_loss: 0.3210 - val_accuracy: 0.9288\n",
      "Epoch 15/20\n",
      "98/98 [==============================] - 115s 1s/step - loss: 0.2853 - accuracy: 0.9165 - val_loss: 0.2800 - val_accuracy: 0.9316\n",
      "Epoch 16/20\n",
      "98/98 [==============================] - 98s 985ms/step - loss: 0.2598 - accuracy: 0.9262 - val_loss: 0.3011 - val_accuracy: 0.9202\n",
      "Epoch 17/20\n",
      "98/98 [==============================] - 99s 990ms/step - loss: 0.2320 - accuracy: 0.9303 - val_loss: 0.2905 - val_accuracy: 0.9345\n",
      "Epoch 18/20\n",
      "98/98 [==============================] - 106s 1s/step - loss: 0.2826 - accuracy: 0.9095 - val_loss: 0.3343 - val_accuracy: 0.9316\n",
      "Epoch 19/20\n",
      "98/98 [==============================] - 113s 1s/step - loss: 0.2745 - accuracy: 0.9088 - val_loss: 0.2831 - val_accuracy: 0.9487\n",
      "Epoch 20/20\n",
      "98/98 [==============================] - 114s 1s/step - loss: 0.2225 - accuracy: 0.9371 - val_loss: 0.2370 - val_accuracy: 0.9516\n"
     ]
    }
   ],
   "source": [
    "history = model.fit(x=train_dataset,\n",
    "                    epochs= 20,\n",
    "                    validation_data=val_dataset)"
   ]
  },
  {
   "cell_type": "code",
   "execution_count": 7,
   "id": "60b34c87",
   "metadata": {},
   "outputs": [
    {
     "data": {
      "image/png": "[encoded data removed]",
      "text/plain": [
       "<Figure size 432x288 with 1 Axes>"
      ]
     },
     "metadata": {
      "needs_background": "light"
     },
     "output_type": "display_data"
    }
   ],
   "source": [
    "plt.plot(history.history['val_loss'])\n",
    "plt.plot(history.history['loss'])\n",
    "plt.title(\"Model Loss\")\n",
    "plt.ylabel(\"Loss\")\n",
    "plt.xlabel('Time')\n",
    "plt.legend(['val_loss', 'loss'], loc='upper left')\n",
    "plt.show()"
   ]
  },
  {
   "cell_type": "code",
   "execution_count": 1,
   "id": "c908ab5d",
   "metadata": {},
   "outputs": [
    {
     "ename": "NameError",
     "evalue": "name 'plt' is not defined",
     "output_type": "error",
     "traceback": [
      "\u001b[1;31m---------------------------------------------------------------------------\u001b[0m",
      "\u001b[1;31mNameError\u001b[0m                                 Traceback (most recent call last)",
      "Input \u001b[1;32mIn [1]\u001b[0m, in \u001b[0;36m<module>\u001b[1;34m\u001b[0m\n\u001b[0;32m      2\u001b[0m image_path\u001b[38;5;241m=\u001b[39m\u001b[38;5;124m\"\u001b[39m\u001b[38;5;124mtomato.jpeg\u001b[39m\u001b[38;5;124m\"\u001b[39m\n\u001b[0;32m      3\u001b[0m img \u001b[38;5;241m=\u001b[39m image\u001b[38;5;241m.\u001b[39mload_img(image_path, target_size\u001b[38;5;241m=\u001b[39m(\u001b[38;5;241m224\u001b[39m,\u001b[38;5;241m224\u001b[39m,\u001b[38;5;241m3\u001b[39m))\n\u001b[1;32m----> 4\u001b[0m \u001b[43mplt\u001b[49m\u001b[38;5;241m.\u001b[39mimshow(img)\n\u001b[0;32m      5\u001b[0m plt\u001b[38;5;241m.\u001b[39mshow()\n\u001b[0;32m      6\u001b[0m x \u001b[38;5;241m=\u001b[39m image\u001b[38;5;241m.\u001b[39mimg_to_array(img)\n",
      "\u001b[1;31mNameError\u001b[0m: name 'plt' is not defined"
     ]
    }
   ],
   "source": [
    "from keras_preprocessing import image\n",
    "image_path=\"tomato.jpeg\"\n",
    "img = image.load_img(image_path, target_size=(224,224,3))\n",
    "plt.imshow(img)\n",
    "plt.show()\n",
    "x = image.img_to_array(img)\n",
    "x = np.expand_dims(x, axis=0)\n",
    "images = np.vstack([x])\n",
    "pred = model.predict(images, batch_size=32)\n",
    "label = np.argmax(pred, axis=1)\n",
    "# print(\"Actual: \")\n",
    "print(\"Predicted: \"+class_names[np.argmax(pred)])"
   ]
  },
  {
   "cell_type": "code",
   "execution_count": 14,
   "id": "88dfc742",
   "metadata": {},
   "outputs": [],
   "source": [
    "model.save(\"mo.h5\")"
   ]
  },
  {
   "cell_type": "code",
   "execution_count": 17,
   "id": "0f366a64",
   "metadata": {},
   "outputs": [],
   "source": [
    "if"
   ]
  }
 ],
 "metadata": {
  "kernelspec": {
   "display_name": "Python 3 (ipykernel)",
   "language": "python",
   "name": "python3"
  },
  "language_info": {
   "codemirror_mode": {
    "name": "ipython",
    "version": 3
   },
   "file_extension": ".py",
   "mimetype": "text/x-python",
   "name": "python",
   "nbconvert_exporter": "python",
   "pygments_lexer": "ipython3",
   "version": "3.8.2"
  }
 },
 "nbformat": 4,
 "nbformat_minor": 5
}
